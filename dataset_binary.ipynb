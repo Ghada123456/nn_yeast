{
  "nbformat": 4,
  "nbformat_minor": 0,
  "metadata": {
    "colab": {
      "name": "Welcome To Colaboratory",
      "version": "0.3.2",
      "provenance": [],
      "collapsed_sections": [],
      "toc_visible": true
    },
    "kernelspec": {
      "display_name": "Python 3",
      "name": "python3"
    }
  },
  "cells": [
    {
      "metadata": {
        "id": "E4I_6hB7w3sf",
        "colab_type": "code",
        "colab": {}
      },
      "cell_type": "code",
      "source": [
        "from Bio import SeqIO\n",
        "import numpy as np\n",
        "import  matplotlib.pyplot as plt\n",
        "\n",
        "max_length =10000"
      ],
      "execution_count": 0,
      "outputs": []
    },
    {
      "metadata": {
        "id": "1i8cszIDxCAv",
        "colab_type": "code",
        "colab": {}
      },
      "cell_type": "code",
      "source": [
        "def get_from_DNA(chromsome,chromsomeID,TSS,PAS,direction):\n",
        "    if direction == '+':\n",
        "        s = str(chromsome[chromsomeID])[TSS:PAS]\n",
        "        return s\n",
        "    else:\n",
        "        s = str(chromsome[chromsomeID])[PAS:TSS]\n",
        "        return s[::-1]\n",
        "    \n",
        "def make_image(seq):\n",
        "    image=np.zeros(shape=(4,max_length),dtype=np.float16)\n",
        "                 \n",
        "    for i in range(len(seq)):\n",
        "        if seq[i]=='A':\n",
        "            image[0,i]=1\n",
        "        elif seq[i]=='T':\n",
        "            image[1,i]=1\n",
        "        elif seq[i]=='G':\n",
        "             image[2,i]=1\n",
        "        else:\n",
        "            image[3,i]=1\n",
        "                            \n",
        "    return image"
      ],
      "execution_count": 0,
      "outputs": []
    },
    {
      "metadata": {
        "id": "RVMPNM7VxEuz",
        "colab_type": "code",
        "colab": {
          "base_uri": "https://localhost:8080/",
          "height": 54
        },
        "outputId": "c129cef4-5efc-4e8a-b69c-a95c4cfb751f"
      },
      "cell_type": "code",
      "source": [
        "chromsome=[]\n",
        "for seq_record in SeqIO.parse(\"S288C_reference_sequence_R64-1-1_20110203.fsa\",\"fasta\"):\n",
        "    chromsome.append(seq_record.seq)\n",
        "    \n",
        "print(get_from_DNA(chromsome,7,292625,290912,'-'))"
      ],
      "execution_count": 18,
      "outputs": [
        {
          "output_type": "stream",
          "text": [
            "TACTTAAGTTGAGGGCTAGATTATAGAGGAGTCTTTAGGTTAAGTAGGTTGAGTATACTTAACCTTAGACCAGCAAGTTTCCGGTACTTATGAGGTCTTCCATTTTTACTTTCAAAAGTGCTGTTGAATTCACTTTCAGTTCACGTTGGGCGGCAACGGGGAGGTTTGTGGCCTTTTCCACAGATGCATTGCCAAAGATAGACAACACAATACCAACGAAAGCCACCAAAGTATAAACCTACCCTATGACCATGGTAAAGACCAAAACAACGAGTTTGACTAAAAGATTCTTCTAAACCATACTTCGTGGTGCTGCCATCAGTAATGAACAGGTTCCACTCTTGACCAAATTAACAGAGATAAAAATTGTAACCAACACGGTAACCACCATAGCAGAATCGGTTCGATCCACTATACATACCAGCATCTTAGCCAAACTAACAGCAACATCATTAGATGTGATAGCCATAGTAATAAGTTTATCGGAGCTAGTTGTTCACCATGGTTATAAAGTAACCATCTTAATAGAGACCAAATCCACAGCCACCATAGTGTCAAAATAGAGGGTACGATTATAGACTCCAGCGGGGGTCACTTTACTCTCCGTGGAACCAAAGTACAATGGTTCAGTACTAATGAAATCCATAAAAGAATCCAATGACATGGTTAAAACCATGGTTCTTAATGAGTTTGAGACAGGTTACCTCTCAAGGTAATCCAAACACAAAGCGGACCCGGAATAAATACTAACCACCATACTACAAACAAGGACTTAGAGGTGCAATAAACCAACTTCGACCGTCTTAGCTGCTTCGGTCCCGAAGAAATCGATTTCAATTGTTTACGGGTGGACTGGTAGGTATGTAAGTTATACTCAACCTTTGATAGCTTCGGTCACAGCTTCTTTACTCTCGGCGACCATGACGTAGAACCCCGCTTAATAAGTGACCATTTGGTCGGTACAAAGTTGCATGATACTACCCATAGTACTAAGTTAGAGATGTTGTTAATTGACCACTATTGATAAAGAAGATGATGCCATGGTAACAAAAGGTCCGACAGCCAAATTCACTGAGAAAACTTTGAAGATAACAGAAACCACAGCAGTTGAAGAAGAGGTGAACAACAAGAGACATGTGGCAACTGGCAAAACCGGCAGCATTGACAAACTACACCCCACGACAGCCATACCAGACGACAATACAACAGATACGGAGACAACCACAATGGTCTAATACCGGTTTGCCAGTTCTAGTTGGTAGAAGTTTCCCACGACCATTGACATACTAACAAAAGCGTACAAAGATGTAAAAGACAAAGCGATGATGGACCCGGGGTTAACGAATGCAACAATAAAGTCTTACAAAGGGTAATTCTCAGTTTAGGTTCACATACAGATAACGGTCACGACGATTGACCTAGACCCCAAAGAACTAATCAAAGAAGTGGGGTAAATAATGACCACGGTAGTTGAAGATGATGCCAATGCAAAAGTACCCGACATACCAAAAGCGAATGAAAATGCAGAAAAAGAAGCAAGGTCTTTGATTTCCAAATAGTAATCTTCTTCAATTACTATACATGCGGCTTCCACAAGATGGTACCTTTAGTCGAAGGACCCAAGGTCATAGGTTCTCTCCGCGACTGATGTTGCGACTACTGGATTACGTACTACTGGTTGGTAAAATGTTCTCAAACAAATCGTCCTTTATT\n"
          ],
          "name": "stdout"
        }
      ]
    },
    {
      "metadata": {
        "id": "SltPgP-6xIHm",
        "colab_type": "code",
        "colab": {
          "base_uri": "https://localhost:8080/",
          "height": 85
        },
        "outputId": "4bb8387e-6099-42db-b3ce-7683a689d06a"
      },
      "cell_type": "code",
      "source": [
        "s = get_from_DNA(chromsome,7,292625,290912,'-')\n",
        "x_image=make_image(s) \n",
        "print(x_image)"
      ],
      "execution_count": 19,
      "outputs": [
        {
          "output_type": "stream",
          "text": [
            "[[0. 1. 0. ... 0. 0. 0.]\n",
            " [1. 0. 0. ... 0. 0. 0.]\n",
            " [0. 0. 0. ... 0. 0. 0.]\n",
            " [0. 0. 1. ... 0. 0. 0.]]\n"
          ],
          "name": "stdout"
        }
      ]
    },
    {
      "metadata": {
        "id": "geXLo1omxMLH",
        "colab_type": "code",
        "colab": {}
      },
      "cell_type": "code",
      "source": [
        "def encode_feature(seq,label):\n",
        "    s=make_image(seq)\n",
        "    s=s.reshape(1,4*max_length)\n",
        "    s=np.insert(s,0,label)\n",
        "    return(s)"
      ],
      "execution_count": 0,
      "outputs": []
    },
    {
      "metadata": {
        "id": "oAnYgDxMxOpE",
        "colab_type": "code",
        "colab": {
          "base_uri": "https://localhost:8080/",
          "height": 187
        },
        "outputId": "d659434b-d8c2-4b1c-a604-50b489ffe3b2"
      },
      "cell_type": "code",
      "source": [
        "import pandas as pd\n",
        "def generate_binary(seq_file):\n",
        "    data=pd.read_csv(seq_file)\n",
        "    \n",
        "    for i in range((10000)):\n",
        "        if(i%1000==0):\n",
        "          print(i)\n",
        "        if(i==0):\n",
        "           \n",
        "            s=encode_feature(data['UTR'].values[i],data['growth_rate'].values[i])\n",
        "        else:\n",
        "            s=np.append(s,encode_feature(data['UTR'].values[i],data['growth_rate'].values[i]))\n",
        "            \n",
        "    s.tofile('s.bin')\n",
        "generate_binary(\"Random_UTRs.csv\")"
      ],
      "execution_count": 21,
      "outputs": [
        {
          "output_type": "stream",
          "text": [
            "0\n",
            "1000\n",
            "2000\n",
            "3000\n",
            "4000\n",
            "5000\n",
            "6000\n",
            "7000\n",
            "8000\n",
            "9000\n"
          ],
          "name": "stdout"
        }
      ]
    },
    {
      "metadata": {
        "id": "wa2xED5rxfgh",
        "colab_type": "code",
        "colab": {
          "base_uri": "https://localhost:8080/",
          "height": 34
        },
        "outputId": "630c491f-5480-45b0-d7b2-377a1fa94f2c"
      },
      "cell_type": "code",
      "source": [
        "np.fromfile('s.bin',dtype=np.float16)"
      ],
      "execution_count": 22,
      "outputs": [
        {
          "output_type": "execute_result",
          "data": {
            "text/plain": [
              "array([-1.237,  1.   ,  1.   , ...,  0.   ,  0.   ,  0.   ], dtype=float16)"
            ]
          },
          "metadata": {
            "tags": []
          },
          "execution_count": 22
        }
      ]
    },
    {
      "metadata": {
        "id": "RRT0xzAF46-9",
        "colab_type": "code",
        "colab": {}
      },
      "cell_type": "code",
      "source": [
        ""
      ],
      "execution_count": 0,
      "outputs": []
    }
  ]
}